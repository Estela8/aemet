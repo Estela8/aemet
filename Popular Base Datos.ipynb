{
 "cells": [
  {
   "cell_type": "code",
   "execution_count": 50,
   "id": "97665b2a-be6b-4a3d-9174-85d5fd84e72c",
   "metadata": {},
   "outputs": [],
   "source": [
    "import pandas as pd\n",
    "import numpy as np\n",
    "import mysql # Para ver la versión\n",
    "import mysql.connector\n",
    "import pymysql"
   ]
  },
  {
   "cell_type": "markdown",
   "id": "f1e7fd92-c1ac-4155-b38b-1f54d429cf61",
   "metadata": {},
   "source": [
    "**CREAR BASE DE DATOS**"
   ]
  },
  {
   "cell_type": "code",
   "execution_count": 53,
   "id": "ba41a9ae-9517-4af3-87d1-7f4572d0bc3e",
   "metadata": {},
   "outputs": [],
   "source": [
    "\n",
    "database = \"AEMET\"\n",
    "\n",
    "def crear_database(database, host = \"localhost\", user = \"root\", password = \"password\"):\n",
    "\n",
    "    # Inicializar Connector\n",
    "    db = mysql.connector.connect(host     = \"localhost\",\n",
    "                                 user     = \"root\",\n",
    "                                 password = \"nueva_contraseña\",\n",
    "                                 database = None)\n",
    "    \n",
    "    # Iniciar Cursor\n",
    "    cursor = db.cursor()\n",
    "    \n",
    "    # Creamos la BBDD con la setencia de SQL y usando la variable cursor\n",
    "    cursor.execute(f\"CREATE DATABASE IF NOT EXISTS {database};\")\n",
    "    \n",
    "    # Finalizar Cursor - Cierra el cursor\n",
    "    cursor.close()\n",
    "    \n",
    "    # Finalizar Connector\n",
    "    db.close()"
   ]
  },
  {
   "cell_type": "code",
   "execution_count": 55,
   "id": "4b97a11b-b047-4f96-a428-4fe48fc82629",
   "metadata": {},
   "outputs": [],
   "source": [
    "crear_database(database, host = \"localhost\", user = \"root\", password = \"password\")"
   ]
  },
  {
   "cell_type": "markdown",
   "id": "332bc0ca-cbe8-456c-8cd8-96487ad85b7e",
   "metadata": {},
   "source": [
    "**CREAR TABLAS DENTRO DE LA BASE DE DATOS**"
   ]
  },
  {
   "cell_type": "code",
   "execution_count": 58,
   "id": "1bc7fa29-5a4a-4aef-97ad-5cd893253059",
   "metadata": {},
   "outputs": [],
   "source": [
    "database = \"AEMET\"\n",
    "\n",
    "def execute_query(query, database, host = \"localhost\", user = \"root\", password = \"password\"):\n",
    "    \n",
    "    db = mysql.connector.connect(host     = \"localhost\",\n",
    "                                 user     = \"root\",\n",
    "                                 password = \"nueva_contraseña\",\n",
    "                                 database = database)\n",
    "    \n",
    "    cursor = db.cursor()\n",
    "    \n",
    "    cursor.execute(query)\n",
    "    \n",
    "    cursor.fetchall() # Vaciamos el cursor\n",
    "    cursor.close()\n",
    "    db.close()"
   ]
  },
  {
   "cell_type": "code",
   "execution_count": 60,
   "id": "26aa1158-e59a-4164-885e-becf06179279",
   "metadata": {},
   "outputs": [],
   "source": [
    "with open(\"nombre.txt\", \"r\") as file:\n",
    "    query = file.read()"
   ]
  },
  {
   "cell_type": "code",
   "execution_count": 62,
   "id": "c32be804-30b0-40ae-b1ad-25204c3590ac",
   "metadata": {},
   "outputs": [],
   "source": [
    "execute_query(query = query, database = database)"
   ]
  },
  {
   "cell_type": "code",
   "execution_count": 64,
   "id": "964a9b1f-1ea0-45c4-bcba-7b2ade37a560",
   "metadata": {},
   "outputs": [],
   "source": [
    "with open(\"provincia.txt\", \"r\") as file:\n",
    "    query = file.read()"
   ]
  },
  {
   "cell_type": "code",
   "execution_count": 66,
   "id": "f80cd3d0-deb8-443e-b9af-72d5ddeb5d18",
   "metadata": {},
   "outputs": [],
   "source": [
    "execute_query(query = query, database = database)"
   ]
  },
  {
   "cell_type": "code",
   "execution_count": 68,
   "id": "2e825bf8-71d3-4cce-a2e4-dd5d6fde0303",
   "metadata": {},
   "outputs": [],
   "source": [
    "with open(\"indicativo.txt\", \"r\") as file:\n",
    "    query = file.read()"
   ]
  },
  {
   "cell_type": "code",
   "execution_count": 70,
   "id": "555e4874-4bd0-43e0-8300-9a3be0499d43",
   "metadata": {},
   "outputs": [],
   "source": [
    "execute_query(query = query, database = database)"
   ]
  },
  {
   "cell_type": "code",
   "execution_count": 72,
   "id": "b2535156-40df-448b-bf19-b8942dc79f5f",
   "metadata": {},
   "outputs": [],
   "source": [
    "with open(\"valores_climatologicos.txt\", \"r\") as file:\n",
    "    query = file.read()"
   ]
  },
  {
   "cell_type": "code",
   "execution_count": 74,
   "id": "01562a27-522c-41e3-8dc9-af0ae767c6bd",
   "metadata": {},
   "outputs": [],
   "source": [
    "execute_query(query = query, database = database)"
   ]
  },
  {
   "cell_type": "markdown",
   "id": "e0071602-3136-47ab-8538-21d8ab4474e5",
   "metadata": {},
   "source": [
    "**INSERTAR DATOS**"
   ]
  },
  {
   "cell_type": "code",
   "execution_count": 77,
   "id": "96bdaf93-e279-43b5-9759-88d999153175",
   "metadata": {},
   "outputs": [],
   "source": [
    "def insert_to_table(data, table, database, host = \"localhost\", user = \"root\", password = \"nueva_contraseña\"):\n",
    "    \n",
    "    db = mysql.connector.connect(host     = host,\n",
    "                                 user     = user,\n",
    "                                 password = password,\n",
    "                                 database = database)\n",
    "    cursor = db.cursor()\n",
    "\n",
    "    # Seleccionamos las columnas de la tabla, omitiendo la Primary Key\n",
    "    cursor.execute(f\"SELECT * FROM {table} LIMIT 0;\")\n",
    "    column_names = cursor.column_names[1:]\n",
    "    cursor.fetchall()\n",
    "\n",
    "    insert_query = f\"INSERT INTO {table} ({', '.join(column_names)}) VALUES ({', '.join(['%s' for _ in column_names])})\".replace(\"'\", \"\")\n",
    "    values = [tuple(row) for row in data]\n",
    "\n",
    "    # .executemany ejecuta el query de INSERT INTO con cada uno de los elementos de \"values\"\n",
    "    cursor.executemany(insert_query, values)\n",
    "    \n",
    "    # Guarda los resultados\n",
    "    db.commit()\n",
    "\n",
    "    print(f\"Añadidas: {cursor.rowcount} filas\")\n",
    "\n",
    "    cursor.fetchall() # Vaciamos el cursor\n",
    "    cursor.close()\n",
    "    db.close()"
   ]
  },
  {
   "cell_type": "code",
   "execution_count": 79,
   "id": "0f11c13b-fa79-4b8d-b6d9-b6346ebb7652",
   "metadata": {},
   "outputs": [
    {
     "name": "stdout",
     "output_type": "stream",
     "text": [
      "Añadidas: 895 filas\n"
     ]
    }
   ],
   "source": [
    "data = pd.read_csv(\"nombre.csv\", index_col=0).values\n",
    "table = \"nombre\"\n",
    "database = \"AEMET\"\n",
    "\n",
    "insert_to_table(data = data, table = table, database = database)"
   ]
  },
  {
   "cell_type": "code",
   "execution_count": 81,
   "id": "08a792af-2203-4684-916a-49c8e8b14a78",
   "metadata": {},
   "outputs": [
    {
     "name": "stdout",
     "output_type": "stream",
     "text": [
      "Añadidas: 53 filas\n"
     ]
    }
   ],
   "source": [
    "data = pd.read_csv(\"provincias.csv\", index_col=0).values\n",
    "table = \"provincia\"\n",
    "database = \"AEMET\"\n",
    "\n",
    "insert_to_table(data = data, table = table, database = database)"
   ]
  },
  {
   "cell_type": "code",
   "execution_count": 83,
   "id": "c78ae9de-28ee-4528-8da8-2b0d26d20750",
   "metadata": {},
   "outputs": [
    {
     "name": "stdout",
     "output_type": "stream",
     "text": [
      "Añadidas: 904 filas\n"
     ]
    }
   ],
   "source": [
    "data = pd.read_csv(\"indicativo.csv\", index_col=0).replace({np.nan : None}).values\n",
    "table = \"indicativo\"\n",
    "database = \"AEMET\"\n",
    "\n",
    "insert_to_table(data = data, table = table, database = database)"
   ]
  },
  {
   "cell_type": "code",
   "execution_count": 85,
   "id": "a12a0109-ac3f-43df-a211-8034c360c166",
   "metadata": {},
   "outputs": [
    {
     "name": "stdout",
     "output_type": "stream",
     "text": [
      "Columnas de la tabla: ('fecha', 'altitud', 'tmed', 'prec', 'tmin', 'horatmin', 'tmax', 'horatmax', 'dir', 'velemedia', 'racha', 'horaracha', 'hrMedia', 'hrMax', 'horaHrMax', 'hrMin', 'horaHrMin', 'indicativo_id', 'nombre_id', 'provincia_id')\n",
      "Ejemplo de fila de datos: [115 19.8 0.0 13.4 None 26.1 None 7.0 1.9 4.4 None 41.0 95.0 None 16.0\n",
      " None 1 1 1]\n",
      "Error en los datos: El número de columnas y valores no coincide.\n"
     ]
    },
    {
     "ename": "InternalError",
     "evalue": "Unread result found",
     "output_type": "error",
     "traceback": [
      "\u001b[0;31m---------------------------------------------------------------------------\u001b[0m",
      "\u001b[0;31mInternalError\u001b[0m                             Traceback (most recent call last)",
      "Cell \u001b[0;32mIn[85], line 5\u001b[0m\n\u001b[1;32m      2\u001b[0m table \u001b[38;5;241m=\u001b[39m \u001b[38;5;124m\"\u001b[39m\u001b[38;5;124mvalores_climatologicos\u001b[39m\u001b[38;5;124m\"\u001b[39m\n\u001b[1;32m      3\u001b[0m database \u001b[38;5;241m=\u001b[39m \u001b[38;5;124m\"\u001b[39m\u001b[38;5;124mAEMET\u001b[39m\u001b[38;5;124m\"\u001b[39m\n\u001b[0;32m----> 5\u001b[0m insert_to_tabledos(data \u001b[38;5;241m=\u001b[39m data, table \u001b[38;5;241m=\u001b[39m table, database \u001b[38;5;241m=\u001b[39m database)\n",
      "Cell \u001b[0;32mIn[29], line 38\u001b[0m, in \u001b[0;36minsert_to_tabledos\u001b[0;34m(data, table, database, host, user, password)\u001b[0m\n\u001b[1;32m     36\u001b[0m     \u001b[38;5;28mprint\u001b[39m(\u001b[38;5;124mf\u001b[39m\u001b[38;5;124m\"\u001b[39m\u001b[38;5;124mError en los datos: \u001b[39m\u001b[38;5;132;01m{\u001b[39;00mve\u001b[38;5;132;01m}\u001b[39;00m\u001b[38;5;124m\"\u001b[39m)\n\u001b[1;32m     37\u001b[0m \u001b[38;5;28;01mfinally\u001b[39;00m:\n\u001b[0;32m---> 38\u001b[0m     cursor\u001b[38;5;241m.\u001b[39mclose()\n\u001b[1;32m     39\u001b[0m     db\u001b[38;5;241m.\u001b[39mclose()\n",
      "File \u001b[0;32m/opt/anaconda3/lib/python3.12/site-packages/mysql/connector/cursor_cext.py:524\u001b[0m, in \u001b[0;36mCMySQLCursor.close\u001b[0;34m(self)\u001b[0m\n\u001b[1;32m    521\u001b[0m \u001b[38;5;28;01mif\u001b[39;00m \u001b[38;5;129;01mnot\u001b[39;00m \u001b[38;5;28mself\u001b[39m\u001b[38;5;241m.\u001b[39m_connection:\n\u001b[1;32m    522\u001b[0m     \u001b[38;5;28;01mreturn\u001b[39;00m \u001b[38;5;28;01mFalse\u001b[39;00m\n\u001b[0;32m--> 524\u001b[0m \u001b[38;5;28mself\u001b[39m\u001b[38;5;241m.\u001b[39m_connection\u001b[38;5;241m.\u001b[39mhandle_unread_result()\n\u001b[1;32m    525\u001b[0m \u001b[38;5;28mself\u001b[39m\u001b[38;5;241m.\u001b[39m_warnings \u001b[38;5;241m=\u001b[39m \u001b[38;5;28;01mNone\u001b[39;00m\n\u001b[1;32m    526\u001b[0m \u001b[38;5;28mself\u001b[39m\u001b[38;5;241m.\u001b[39m_connection \u001b[38;5;241m=\u001b[39m \u001b[38;5;28;01mNone\u001b[39;00m\n",
      "File \u001b[0;32m/opt/anaconda3/lib/python3.12/site-packages/mysql/connector/connection_cext.py:1044\u001b[0m, in \u001b[0;36mCMySQLConnection.handle_unread_result\u001b[0;34m(self, prepared)\u001b[0m\n\u001b[1;32m   1042\u001b[0m     \u001b[38;5;28mself\u001b[39m\u001b[38;5;241m.\u001b[39mconsume_results()\n\u001b[1;32m   1043\u001b[0m \u001b[38;5;28;01melif\u001b[39;00m unread_result:\n\u001b[0;32m-> 1044\u001b[0m     \u001b[38;5;28;01mraise\u001b[39;00m InternalError(\u001b[38;5;124m\"\u001b[39m\u001b[38;5;124mUnread result found\u001b[39m\u001b[38;5;124m\"\u001b[39m)\n",
      "\u001b[0;31mInternalError\u001b[0m: Unread result found"
     ]
    }
   ],
   "source": [
    "data = pd.read_csv(\"df_22.csv\", index_col=0).replace({np.nan : None}).values\n",
    "table = \"valores_climatologicos\"\n",
    "database = \"AEMET\"\n",
    "\n",
    "insert_to_tabledos(data = data, table = table, database = database)"
   ]
  },
  {
   "cell_type": "code",
   "execution_count": null,
   "id": "79467612-cbca-4289-9a69-461453bcf37e",
   "metadata": {},
   "outputs": [],
   "source": [
    "data = pd.read_csv(\"df_23.csv\", index_col=0).replace({np.nan : None}).values\n",
    "table = \"valores_climatologicos\"\n",
    "database = \"AEMET\"\n",
    "\n",
    "insert_to_table(data = data, table = table, database = database)"
   ]
  },
  {
   "cell_type": "code",
   "execution_count": null,
   "id": "ed4f62b7-842a-41ce-8c79-9e93d93a4265",
   "metadata": {},
   "outputs": [],
   "source": [
    "data = pd.read_csv(\"df_24.csv\", index_col=0).replace({np.nan : None}).values\n",
    "table = \"valores_climatologicos\"\n",
    "database = \"AEMET\"\n",
    "\n",
    "insert_to_table(data = data, table = table, database = database)"
   ]
  },
  {
   "cell_type": "code",
   "execution_count": 29,
   "id": "32d365a7-926d-4b61-96bb-c56d9b1ae3d1",
   "metadata": {},
   "outputs": [],
   "source": [
    "def insert_to_tabledos(data, table, database, host=\"localhost\", user=\"root\", password=\"nueva_contraseña\"):\n",
    "    try:\n",
    "        db = mysql.connector.connect(\n",
    "            host=host,\n",
    "            user=user,\n",
    "            password=password,\n",
    "            database=database\n",
    "        )\n",
    "        cursor = db.cursor()\n",
    "\n",
    "        # Seleccionamos las columnas de la tabla, omitiendo la Primary Key\n",
    "        cursor.execute(f\"SELECT * FROM {table} LIMIT 0;\")\n",
    "        column_names = cursor.column_names[1:]  # Omitir la Primary Key\n",
    "\n",
    "        # Verificar si el número de columnas coincide con el de valores\n",
    "        print(f\"Columnas de la tabla: {column_names}\")\n",
    "        print(f\"Ejemplo de fila de datos: {data[0]}\")\n",
    "        if len(column_names) != len(data[0]):\n",
    "            raise ValueError(\"El número de columnas y valores no coincide.\")\n",
    "\n",
    "        # Construcción del query de inserción\n",
    "        insert_query = f\"INSERT INTO {table} ({', '.join(column_names)}) VALUES ({', '.join(['%s' for _ in column_names])})\"\n",
    "        values = [tuple(row) for row in data]\n",
    "\n",
    "        # Ejecutamos el query de inserción con executemany\n",
    "        cursor.executemany(insert_query, values)\n",
    "        \n",
    "        # Confirmamos la transacción\n",
    "        db.commit()\n",
    "\n",
    "        print(f\"Añadidas: {cursor.rowcount} filas\")\n",
    "\n",
    "    except mysql.connector.Error as err:\n",
    "        print(f\"Error en MySQL: {err}\")\n",
    "    except ValueError as ve:\n",
    "        print(f\"Error en los datos: {ve}\")\n",
    "    finally:\n",
    "        cursor.close()\n",
    "        db.close()"
   ]
  },
  {
   "cell_type": "code",
   "execution_count": 31,
   "id": "bb597e01-9ad9-4bec-bbf3-6225981f00b2",
   "metadata": {},
   "outputs": [
    {
     "name": "stdout",
     "output_type": "stream",
     "text": [
      "Columnas de la tabla: ('fecha', 'altitud', 'tmed', 'prec', 'tmin', 'horatmin', 'tmax', 'horatmax', 'dir', 'velemedia', 'racha', 'horaracha', 'hrMedia', 'hrMax', 'horaHrMax', 'hrMin', 'horaHrMin', 'indicativo_id', 'nombre_id', 'provincia_id')\n",
      "Ejemplo de fila de datos: [115 19.8 0.0 13.4 None 26.1 None 7.0 1.9 4.4 None 41.0 95.0 None 16.0\n",
      " None 1 1 1]\n",
      "Error en los datos: El número de columnas y valores no coincide.\n"
     ]
    },
    {
     "ename": "InternalError",
     "evalue": "Unread result found",
     "output_type": "error",
     "traceback": [
      "\u001b[0;31m---------------------------------------------------------------------------\u001b[0m",
      "\u001b[0;31mInternalError\u001b[0m                             Traceback (most recent call last)",
      "Cell \u001b[0;32mIn[31], line 5\u001b[0m\n\u001b[1;32m      2\u001b[0m table \u001b[38;5;241m=\u001b[39m \u001b[38;5;124m\"\u001b[39m\u001b[38;5;124mvalores_climatologicos\u001b[39m\u001b[38;5;124m\"\u001b[39m\n\u001b[1;32m      3\u001b[0m database \u001b[38;5;241m=\u001b[39m \u001b[38;5;124m\"\u001b[39m\u001b[38;5;124mAEMET\u001b[39m\u001b[38;5;124m\"\u001b[39m\n\u001b[0;32m----> 5\u001b[0m insert_to_tabledos(data \u001b[38;5;241m=\u001b[39m data, table \u001b[38;5;241m=\u001b[39m table, database \u001b[38;5;241m=\u001b[39m database)\n",
      "Cell \u001b[0;32mIn[29], line 38\u001b[0m, in \u001b[0;36minsert_to_tabledos\u001b[0;34m(data, table, database, host, user, password)\u001b[0m\n\u001b[1;32m     36\u001b[0m     \u001b[38;5;28mprint\u001b[39m(\u001b[38;5;124mf\u001b[39m\u001b[38;5;124m\"\u001b[39m\u001b[38;5;124mError en los datos: \u001b[39m\u001b[38;5;132;01m{\u001b[39;00mve\u001b[38;5;132;01m}\u001b[39;00m\u001b[38;5;124m\"\u001b[39m)\n\u001b[1;32m     37\u001b[0m \u001b[38;5;28;01mfinally\u001b[39;00m:\n\u001b[0;32m---> 38\u001b[0m     cursor\u001b[38;5;241m.\u001b[39mclose()\n\u001b[1;32m     39\u001b[0m     db\u001b[38;5;241m.\u001b[39mclose()\n",
      "File \u001b[0;32m/opt/anaconda3/lib/python3.12/site-packages/mysql/connector/cursor_cext.py:524\u001b[0m, in \u001b[0;36mCMySQLCursor.close\u001b[0;34m(self)\u001b[0m\n\u001b[1;32m    521\u001b[0m \u001b[38;5;28;01mif\u001b[39;00m \u001b[38;5;129;01mnot\u001b[39;00m \u001b[38;5;28mself\u001b[39m\u001b[38;5;241m.\u001b[39m_connection:\n\u001b[1;32m    522\u001b[0m     \u001b[38;5;28;01mreturn\u001b[39;00m \u001b[38;5;28;01mFalse\u001b[39;00m\n\u001b[0;32m--> 524\u001b[0m \u001b[38;5;28mself\u001b[39m\u001b[38;5;241m.\u001b[39m_connection\u001b[38;5;241m.\u001b[39mhandle_unread_result()\n\u001b[1;32m    525\u001b[0m \u001b[38;5;28mself\u001b[39m\u001b[38;5;241m.\u001b[39m_warnings \u001b[38;5;241m=\u001b[39m \u001b[38;5;28;01mNone\u001b[39;00m\n\u001b[1;32m    526\u001b[0m \u001b[38;5;28mself\u001b[39m\u001b[38;5;241m.\u001b[39m_connection \u001b[38;5;241m=\u001b[39m \u001b[38;5;28;01mNone\u001b[39;00m\n",
      "File \u001b[0;32m/opt/anaconda3/lib/python3.12/site-packages/mysql/connector/connection_cext.py:1044\u001b[0m, in \u001b[0;36mCMySQLConnection.handle_unread_result\u001b[0;34m(self, prepared)\u001b[0m\n\u001b[1;32m   1042\u001b[0m     \u001b[38;5;28mself\u001b[39m\u001b[38;5;241m.\u001b[39mconsume_results()\n\u001b[1;32m   1043\u001b[0m \u001b[38;5;28;01melif\u001b[39;00m unread_result:\n\u001b[0;32m-> 1044\u001b[0m     \u001b[38;5;28;01mraise\u001b[39;00m InternalError(\u001b[38;5;124m\"\u001b[39m\u001b[38;5;124mUnread result found\u001b[39m\u001b[38;5;124m\"\u001b[39m)\n",
      "\u001b[0;31mInternalError\u001b[0m: Unread result found"
     ]
    }
   ],
   "source": [
    "data = pd.read_csv(\"df_22.csv\", index_col=0).replace({np.nan : None}).values\n",
    "table = \"valores_climatologicos\"\n",
    "database = \"AEMET\"\n",
    "\n",
    "insert_to_tabledos(data = data, table = table, database = database)"
   ]
  },
  {
   "cell_type": "code",
   "execution_count": null,
   "id": "9df54f9e-7e36-40be-a49c-3670185987b8",
   "metadata": {},
   "outputs": [],
   "source": []
  },
  {
   "cell_type": "code",
   "execution_count": null,
   "id": "3b72609c-db8a-4449-9b43-2cf929c596c0",
   "metadata": {},
   "outputs": [],
   "source": []
  },
  {
   "cell_type": "code",
   "execution_count": null,
   "id": "e0c035c9-de30-475b-aaec-f37ad9df75f2",
   "metadata": {},
   "outputs": [],
   "source": []
  },
  {
   "cell_type": "code",
   "execution_count": null,
   "id": "93e9075b-6db6-43b0-a6a0-b280cdb37161",
   "metadata": {},
   "outputs": [],
   "source": []
  }
 ],
 "metadata": {
  "kernelspec": {
   "display_name": "Python 3 (ipykernel)",
   "language": "python",
   "name": "python3"
  },
  "language_info": {
   "codemirror_mode": {
    "name": "ipython",
    "version": 3
   },
   "file_extension": ".py",
   "mimetype": "text/x-python",
   "name": "python",
   "nbconvert_exporter": "python",
   "pygments_lexer": "ipython3",
   "version": "3.12.4"
  }
 },
 "nbformat": 4,
 "nbformat_minor": 5
}
