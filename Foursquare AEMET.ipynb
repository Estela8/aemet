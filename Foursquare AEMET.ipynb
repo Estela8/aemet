{
 "cells": [
  {
   "cell_type": "code",
   "execution_count": null,
   "id": "02fa594b-c1d0-4c6e-83b4-73c2f3be9e3a",
   "metadata": {},
   "outputs": [],
   "source": [
    "import numpy as np\n",
    "import pandas as pd\n",
    "\n",
    "import requests\n",
    "from pprint import pprint"
   ]
  },
  {
   "cell_type": "code",
   "execution_count": null,
   "id": "56f4cdc1-cbf4-45bd-88db-a70bede9e965",
   "metadata": {},
   "outputs": [],
   "source": []
  },
  {
   "cell_type": "code",
   "execution_count": null,
   "id": "d447cfc1-591c-4569-be1f-2609ada88956",
   "metadata": {},
   "outputs": [],
   "source": [
    "API_KEY = \"fsq3wA0Op7j9tzbgmefBOQjmkOOCwSJwrr6Iq5ag4GC1XKM=\""
   ]
  },
  {
   "cell_type": "code",
   "execution_count": null,
   "id": "927f5ec5-4005-4cff-929d-105741395b88",
   "metadata": {},
   "outputs": [],
   "source": [
    "# Llamada al API\n",
    "\n",
    "# Base del Endpoint\n",
    "search_url = \"https://api.foursquare.com/v3/places/search\"\n",
    "\n",
    "# Parametros\n",
    "query = \"coffee\"\n",
    "\n",
    "near = \"madrid\"\n",
    "\n",
    "# Endpoint\n",
    "endpoint = f\"{search_url}?query={query}&near={near}&limit=50\"\n",
    "\n",
    "print(f\"Endpoint: {endpoint}\")\n",
    "\n",
    "# Headers\n",
    "# Para poder usar el API tenemos que autenticarnos usando el \"API_KEY\"\n",
    "# Por eso debemos crear una nueva variable \"headers\"\n",
    "# Este diccionario tendrá la información de los permisos necesarios.\n",
    "\n",
    "headers = {\"accept\"        : \"application/json\", \n",
    "           \"Authorization\" : API_KEY}\n",
    "\n",
    "headers\n",
    "\n",
    "# Request\n",
    "# Agregamos el parámetro \"headers\"\n",
    "response = requests.get(url = endpoint, headers = headers)\n",
    "\n",
    "print(f\"response: {response.status_code}\")\n",
    "\n",
    "print(response.json())"
   ]
  },
  {
   "cell_type": "code",
   "execution_count": null,
   "id": "68c6899d-acb8-4546-9e15-3bfa1e049b8e",
   "metadata": {},
   "outputs": [],
   "source": []
  },
  {
   "cell_type": "code",
   "execution_count": null,
   "id": "463bef44-606c-46a9-b1a9-1f70146e5f74",
   "metadata": {},
   "outputs": [],
   "source": []
  },
  {
   "cell_type": "code",
   "execution_count": null,
   "id": "a9d83bed-cc16-4f76-959a-bc559408c510",
   "metadata": {},
   "outputs": [],
   "source": []
  },
  {
   "cell_type": "code",
   "execution_count": null,
   "id": "305928c8-bdfa-4de3-9bfc-9a63664df2d6",
   "metadata": {},
   "outputs": [],
   "source": []
  },
  {
   "cell_type": "code",
   "execution_count": null,
   "id": "ef2e7b0c-c6c2-4865-ab79-a965f43cd1fd",
   "metadata": {},
   "outputs": [],
   "source": []
  },
  {
   "cell_type": "code",
   "execution_count": null,
   "id": "2d3d32bb-2063-4cb9-90c6-4d27f6990a9a",
   "metadata": {},
   "outputs": [],
   "source": []
  },
  {
   "cell_type": "code",
   "execution_count": null,
   "id": "4104029e-0ff4-4631-b429-e052189033b8",
   "metadata": {},
   "outputs": [],
   "source": []
  },
  {
   "cell_type": "code",
   "execution_count": null,
   "id": "d5e7f593-35ae-4413-a82c-7d5aac8a0058",
   "metadata": {},
   "outputs": [],
   "source": []
  },
  {
   "cell_type": "code",
   "execution_count": null,
   "id": "44c01a43-4fc3-4ced-947f-0dc4d11732fd",
   "metadata": {},
   "outputs": [],
   "source": []
  },
  {
   "cell_type": "code",
   "execution_count": null,
   "id": "b3218508-2ea7-4262-96fe-4249d2477d46",
   "metadata": {},
   "outputs": [],
   "source": []
  },
  {
   "cell_type": "code",
   "execution_count": null,
   "id": "25355597-3b3c-427b-b1f9-3ff7dc451800",
   "metadata": {},
   "outputs": [],
   "source": []
  },
  {
   "cell_type": "code",
   "execution_count": null,
   "id": "836d7a60-3c5e-4009-9fca-b8718a02e219",
   "metadata": {},
   "outputs": [],
   "source": []
  },
  {
   "cell_type": "code",
   "execution_count": null,
   "id": "a1425584-6de3-41fe-a148-6952d3b2ce45",
   "metadata": {},
   "outputs": [],
   "source": []
  }
 ],
 "metadata": {
  "kernelspec": {
   "display_name": "Python 3 (ipykernel)",
   "language": "python",
   "name": "python3"
  },
  "language_info": {
   "codemirror_mode": {
    "name": "ipython",
    "version": 3
   },
   "file_extension": ".py",
   "mimetype": "text/x-python",
   "name": "python",
   "nbconvert_exporter": "python",
   "pygments_lexer": "ipython3",
   "version": "3.12.4"
  }
 },
 "nbformat": 4,
 "nbformat_minor": 5
}
