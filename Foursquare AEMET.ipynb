{
 "cells": [
  {
   "cell_type": "code",
   "execution_count": 13,
   "id": "02fa594b-c1d0-4c6e-83b4-73c2f3be9e3a",
   "metadata": {},
   "outputs": [],
   "source": [
    "import numpy as np\n",
    "import pandas as pd\n",
    "import time\n",
    "import requests\n",
    "from pprint import pprint\n",
    "from requests.exceptions import RequestException, ChunkedEncodingError\n"
   ]
  },
  {
   "cell_type": "code",
   "execution_count": null,
   "id": "68c6899d-acb8-4546-9e15-3bfa1e049b8e",
   "metadata": {},
   "outputs": [
    {
     "name": "stdout",
     "output_type": "stream",
     "text": [
      "Error en la solicitud para güímar: 401\n",
      "Error en la solicitud para santa susanna: 401\n",
      "Error en la solicitud para la roda de andalucía: 401\n",
      "Error en la solicitud para tarancón: 401\n",
      "Error en la solicitud para calatayud: 401\n",
      "Error de conexión para portocolom  : HTTPSConnectionPool(host='api.foursquare.com', port=443): Read timed out.\n",
      "Error de conexión para portocolom  : HTTPSConnectionPool(host='api.foursquare.com', port=443): Read timed out.\n",
      "Error de conexión para portocolom  : HTTPSConnectionPool(host='api.foursquare.com', port=443): Read timed out.\n",
      "Error de conexión para xàtiva: HTTPSConnectionPool(host='api.foursquare.com', port=443): Read timed out.\n",
      "Error de conexión para xàtiva: HTTPSConnectionPool(host='api.foursquare.com', port=443): Read timed out.\n",
      "Error de conexión para xàtiva: HTTPSConnectionPool(host='api.foursquare.com', port=443): Read timed out.\n",
      "Error en la solicitud para benavente: 401\n",
      "Error de conexión para autilla del pino: HTTPSConnectionPool(host='api.foursquare.com', port=443): Read timed out.\n",
      "Error de conexión para autilla del pino: HTTPSConnectionPool(host='api.foursquare.com', port=443): Read timed out.\n",
      "Error en la solicitud para autilla del pino: 401\n",
      "Error en la solicitud para castelló - almassora: 401\n",
      "Error en la solicitud para fuerteventura aeropuerto: 401\n",
      "Error de conexión para puerto de navacerrada: HTTPSConnectionPool(host='api.foursquare.com', port=443): Read timed out.\n",
      "Error de conexión para puerto de navacerrada: HTTPSConnectionPool(host='api.foursquare.com', port=443): Read timed out.\n",
      "Error de conexión para puerto de navacerrada: HTTPSConnectionPool(host='api.foursquare.com', port=443): Read timed out.\n",
      "Error en la solicitud para reinosa: 401\n",
      "Error de conexión para baza: HTTPSConnectionPool(host='api.foursquare.com', port=443): Read timed out.\n",
      "Error en la solicitud para baza: 401\n",
      "Error en la solicitud para castellfort: 401\n",
      "Error en la solicitud para alcañiz: 401\n",
      "Error en la solicitud para don benito: 401\n",
      "Error de conexión para a coruña aeropuerto: HTTPSConnectionPool(host='api.foursquare.com', port=443): Read timed out.\n",
      "Error de conexión para a coruña aeropuerto: HTTPSConnectionPool(host='api.foursquare.com', port=443): Read timed out.\n",
      "Error en la solicitud para a coruña aeropuerto: 401\n",
      "Error de conexión para asturias aeropuerto: HTTPSConnectionPool(host='api.foursquare.com', port=443): Read timed out.\n",
      "Error en la solicitud para asturias aeropuerto: 401\n",
      "Error en la solicitud para reus aeropuerto: 401\n",
      "Error de conexión para tenerife norte aeropuerto: HTTPSConnectionPool(host='api.foursquare.com', port=443): Read timed out.\n",
      "Error de conexión para tenerife norte aeropuerto: HTTPSConnectionPool(host='api.foursquare.com', port=443): Read timed out.\n",
      "Error de conexión para tenerife norte aeropuerto: HTTPSConnectionPool(host='api.foursquare.com', port=443): Read timed out.\n",
      "Error de conexión para zaragoza, aeropuerto: HTTPSConnectionPool(host='api.foursquare.com', port=443): Read timed out.\n",
      "Error de conexión para zaragoza, aeropuerto: HTTPSConnectionPool(host='api.foursquare.com', port=443): Read timed out.\n",
      "Error en la solicitud para zaragoza, aeropuerto: 401\n",
      "Error de conexión para roquetas de mar: HTTPSConnectionPool(host='api.foursquare.com', port=443): Read timed out.\n",
      "Error de conexión para roquetas de mar: HTTPSConnectionPool(host='api.foursquare.com', port=443): Read timed out.\n",
      "Error en la solicitud para roquetas de mar: 401\n",
      "Error de conexión para jávea/ xàbia: ('Connection broken: IncompleteRead(0 bytes read, 36 more expected)', IncompleteRead(0 bytes read, 36 more expected))\n",
      "Error en la solicitud para jávea/ xàbia: 401\n",
      "Error en la solicitud para san fernando: 401\n",
      "Error en la solicitud para cervera de pisuerga: 401\n",
      "Error de conexión para toledo: HTTPSConnectionPool(host='api.foursquare.com', port=443): Read timed out.\n",
      "Error de conexión para toledo: ('Connection broken: IncompleteRead(0 bytes read, 36 more expected)', IncompleteRead(0 bytes read, 36 more expected))\n",
      "Error de conexión para toledo: HTTPSConnectionPool(host='api.foursquare.com', port=443): Read timed out.\n",
      "Error en la solicitud para medina de pomar: 401\n",
      "Error en la solicitud para girona aeropuerto: 401\n",
      "Error en la solicitud para tarifa: 401\n",
      "Error en la solicitud para estación de tortosa (roquetes): 401\n"
     ]
    }
   ],
   "source": [
    "# Tu DataFrame de ciudades (ejemplo)\n",
    "df = pd.read_csv(\"nombre.csv\")\n",
    "df[\"nombre\"] = df[\"nombre\"].apply(lambda x : x.lower())\n",
    "\n",
    "# Tu API Key de Foursquare\n",
    "API_KEY = 'fsq3wA0Op7j9tzbgmefBOQjmkOOCwSJwrr6Iq5ag4GC1XKM'\n",
    "\n",
    "\n",
    "# Lista para almacenar los resultados\n",
    "resultados = []\n",
    "\n",
    "# Realizar solicitud para cada ciudad\n",
    "for ciudad in df['nombre']:\n",
    "    intentos = 0\n",
    "    exito = False\n",
    "    while intentos < 3 and not exito:  # Reintentar hasta 3 veces si falla\n",
    "        try:\n",
    "            params = {\n",
    "                \"query\": ciudad,\n",
    "                \"near\": \"Spain\",\n",
    "                \"limit\": 1,\n",
    "                \"fields\": \"name,location\"\n",
    "            }\n",
    "            headers = {\"Authorization\": API_KEY}\n",
    "            \n",
    "            # Hacemos la solicitud con un timeout de 10 segundos\n",
    "            response = requests.get(\"https://api.foursquare.com/v3/places/search\", params=params, headers=headers, timeout=10)\n",
    "            \n",
    "            # Verificar si la solicitud fue exitosa\n",
    "            if response.status_code == 200:\n",
    "                data = response.json()\n",
    "                \n",
    "                # Procesar cada resultado\n",
    "                for place in data['results']:\n",
    "                    resultados.append({\n",
    "                        \"ciudad\": ciudad,\n",
    "                        \"nombre\": place['name'],\n",
    "                        \"latitud\": place['location']['lat'],\n",
    "                        \"longitud\": place['location']['lng']\n",
    "                    })\n",
    "                exito = True  # Marcar como exitoso\n",
    "            else:\n",
    "                print(f\"Error en la solicitud para {ciudad}: {response.status_code}\")\n",
    "                break  # Salir del bucle si la solicitud falla con un código de error HTTP\n",
    "                \n",
    "        except (RequestException, ChunkedEncodingError) as e:\n",
    "            print(f\"Error de conexión para {ciudad}: {e}\")\n",
    "            intentos += 1\n",
    "            time.sleep(2)  # Esperar 2 segundos antes de reintentar\n",
    "            \n",
    "    time.sleep(1)  # Pausa entre solicitudes\n",
    "\n",
    "# Crear un DataFrame con los resultados\n",
    "resultados_df = pd.DataFrame(resultados)\n",
    "print(resultados_df)"
   ]
  },
  {
   "cell_type": "code",
   "execution_count": null,
   "id": "463bef44-606c-46a9-b1a9-1f70146e5f74",
   "metadata": {},
   "outputs": [],
   "source": []
  },
  {
   "cell_type": "code",
   "execution_count": null,
   "id": "a9d83bed-cc16-4f76-959a-bc559408c510",
   "metadata": {},
   "outputs": [],
   "source": []
  },
  {
   "cell_type": "code",
   "execution_count": null,
   "id": "305928c8-bdfa-4de3-9bfc-9a63664df2d6",
   "metadata": {},
   "outputs": [],
   "source": []
  },
  {
   "cell_type": "code",
   "execution_count": null,
   "id": "ef2e7b0c-c6c2-4865-ab79-a965f43cd1fd",
   "metadata": {},
   "outputs": [],
   "source": []
  },
  {
   "cell_type": "code",
   "execution_count": null,
   "id": "2d3d32bb-2063-4cb9-90c6-4d27f6990a9a",
   "metadata": {},
   "outputs": [],
   "source": []
  },
  {
   "cell_type": "code",
   "execution_count": null,
   "id": "4104029e-0ff4-4631-b429-e052189033b8",
   "metadata": {},
   "outputs": [],
   "source": []
  },
  {
   "cell_type": "code",
   "execution_count": null,
   "id": "d5e7f593-35ae-4413-a82c-7d5aac8a0058",
   "metadata": {},
   "outputs": [],
   "source": []
  },
  {
   "cell_type": "code",
   "execution_count": null,
   "id": "44c01a43-4fc3-4ced-947f-0dc4d11732fd",
   "metadata": {},
   "outputs": [],
   "source": []
  },
  {
   "cell_type": "code",
   "execution_count": null,
   "id": "b3218508-2ea7-4262-96fe-4249d2477d46",
   "metadata": {},
   "outputs": [],
   "source": []
  },
  {
   "cell_type": "code",
   "execution_count": null,
   "id": "25355597-3b3c-427b-b1f9-3ff7dc451800",
   "metadata": {},
   "outputs": [],
   "source": []
  },
  {
   "cell_type": "code",
   "execution_count": null,
   "id": "836d7a60-3c5e-4009-9fca-b8718a02e219",
   "metadata": {},
   "outputs": [],
   "source": []
  },
  {
   "cell_type": "code",
   "execution_count": null,
   "id": "a1425584-6de3-41fe-a148-6952d3b2ce45",
   "metadata": {},
   "outputs": [],
   "source": []
  }
 ],
 "metadata": {
  "kernelspec": {
   "display_name": "Python 3 (ipykernel)",
   "language": "python",
   "name": "python3"
  },
  "language_info": {
   "codemirror_mode": {
    "name": "ipython",
    "version": 3
   },
   "file_extension": ".py",
   "mimetype": "text/x-python",
   "name": "python",
   "nbconvert_exporter": "python",
   "pygments_lexer": "ipython3",
   "version": "3.12.4"
  }
 },
 "nbformat": 4,
 "nbformat_minor": 5
}
