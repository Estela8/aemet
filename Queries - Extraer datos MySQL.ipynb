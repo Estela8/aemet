{
 "cells": [
  {
   "cell_type": "code",
   "execution_count": null,
   "id": "cbb4644e-4a98-42e2-b822-2f2bf55e157f",
   "metadata": {},
   "outputs": [],
   "source": [
    "import pandas as pd\n",
    "\n",
    "import mysql # Para ver la versión\n",
    "import mysql.connector\n",
    "import pymysql"
   ]
  },
  {
   "cell_type": "markdown",
   "id": "f850d58b-832f-4ec9-b06d-43146925286e",
   "metadata": {},
   "source": [
    "**EXTRAER DATOS MEDIANTE QUERIES**"
   ]
  },
  {
   "cell_type": "code",
   "execution_count": null,
   "id": "a784e48a-e6a8-4a68-90ab-e6cf180f7a4a",
   "metadata": {},
   "outputs": [],
   "source": [
    "database = \"AEMET\"\n",
    "table_name = \"maestro\"\n",
    "\n",
    "def execute_query(query, table, database, host = \"localhost\", user = \"root\", password = \"nueva_contraseña\"):\n",
    "    \n",
    "    db = mysql.connector.connect(host     = host,\n",
    "                                 user     = user,\n",
    "                                 password = password,\n",
    "                                 database = database)\n",
    "\n",
    "    cursor = db.cursor()\n",
    "\n",
    "    cursor.execute(query)\n",
    "\n",
    "    cursor.fetchall() # Vaciamos el cursor\n",
    "    cursor.close()\n",
    "    db.close()\n",
    "\n",
    "    query = f\"\"\"SELECT * FROM {table_name};\"\"\"\n",
    "    \n",
    "    # .executemany ejecuta el query de INSERT INTO con cada uno de los elementos de \"values\"\n",
    "    cursor.executemany(query)\n",
    "    \n",
    "    # Guarda los resultados\n",
    "    db.commit()\n",
    "\n",
    "    print(f\"Añadidas: {cursor.rowcount} filas\")\n",
    "\n",
    "    cursor.fetchall() # Vaciamos el cursor\n",
    "    cursor.close()\n",
    "    db.close()"
   ]
  },
  {
   "cell_type": "code",
   "execution_count": null,
   "id": "05327705-3527-412a-835f-8e0a23daf4c7",
   "metadata": {},
   "outputs": [],
   "source": []
  },
  {
   "cell_type": "code",
   "execution_count": null,
   "id": "d75f87bb-af20-482c-819f-9f7e1d27687c",
   "metadata": {},
   "outputs": [],
   "source": []
  },
  {
   "cell_type": "code",
   "execution_count": null,
   "id": "a1846e3b-10f2-48e1-81f7-351853556024",
   "metadata": {},
   "outputs": [],
   "source": []
  },
  {
   "cell_type": "code",
   "execution_count": null,
   "id": "1ea51e52-75fe-48e1-8fb6-449ad3dec5de",
   "metadata": {},
   "outputs": [],
   "source": []
  },
  {
   "cell_type": "code",
   "execution_count": null,
   "id": "f2f9992b-a80c-4cb5-9e93-62904bd035d7",
   "metadata": {},
   "outputs": [],
   "source": []
  },
  {
   "cell_type": "code",
   "execution_count": null,
   "id": "ce88436c-5e10-433a-8e3b-e2a11f713afe",
   "metadata": {},
   "outputs": [],
   "source": []
  },
  {
   "cell_type": "code",
   "execution_count": null,
   "id": "b286e20c-93d4-4255-963d-abab051031b1",
   "metadata": {},
   "outputs": [],
   "source": []
  },
  {
   "cell_type": "code",
   "execution_count": null,
   "id": "91819a27-c22e-499d-a70c-9a26d5a6a83d",
   "metadata": {},
   "outputs": [],
   "source": []
  }
 ],
 "metadata": {
  "kernelspec": {
   "display_name": "Python 3 (ipykernel)",
   "language": "python",
   "name": "python3"
  },
  "language_info": {
   "codemirror_mode": {
    "name": "ipython",
    "version": 3
   },
   "file_extension": ".py",
   "mimetype": "text/x-python",
   "name": "python",
   "nbconvert_exporter": "python",
   "pygments_lexer": "ipython3",
   "version": "3.12.4"
  }
 },
 "nbformat": 4,
 "nbformat_minor": 5
}
