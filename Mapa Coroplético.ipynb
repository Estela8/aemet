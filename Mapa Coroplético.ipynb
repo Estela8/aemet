{
 "cells": [
  {
   "cell_type": "code",
   "execution_count": 49,
   "id": "f51953df-b382-4011-b4dc-f1930fe95161",
   "metadata": {},
   "outputs": [],
   "source": [
    "import pandas as pd\n",
    "import numpy as np\n",
    "import folium\n",
    "import geopandas as gpd\n",
    "import matplotlib.pyplot as plt\n",
    "import mysql # Para ver la versión\n",
    "import mysql.connector\n",
    "import pymysql"
   ]
  },
  {
   "cell_type": "markdown",
   "id": "c7458627-abe8-47f0-8c7a-e2ac3b3507a2",
   "metadata": {},
   "source": [
    "**CODIGO MYSQL PARA LA COLUMNA**"
   ]
  },
  {
   "cell_type": "code",
   "execution_count": 52,
   "id": "3ae39fcb-ee3f-4696-a64d-92ac5dff509c",
   "metadata": {},
   "outputs": [],
   "source": [
    "#DEBIDO A QUE TENEMOS VARIAS TEMPERATURAS MEDIAS POR PROVINCIA, SE HACE UNA QUERY CON LA MEDIA DE TEMPERATURAS EN ESA PROVINCIA POR FECHA.\n",
    "\n",
    "query = f\"\"\"SELECT \n",
    "    t1.fecha, \n",
    "    AVG(t1.tmed) AS media_tmed, \n",
    "    t1.provincia_id, \n",
    "    t2.provincia \n",
    "FROM \n",
    "    valores_climatologicos t1 \n",
    "RIGHT JOIN \n",
    "    provincias t2 ON t1.provincia_id = t2.provincia_id \n",
    "GROUP BY \n",
    "    t1.fecha, \n",
    "    t1.provincia_id, \n",
    "    t2.provincia;\"\"\"\n",
    "\n",
    "\n"
   ]
  },
  {
   "cell_type": "code",
   "execution_count": 54,
   "id": "d3d45d12-c887-41d5-9a04-df5ea726f34b",
   "metadata": {},
   "outputs": [],
   "source": [
    "database = \"AEMET\"\n",
    "\n",
    "db = mysql.connector.connect(host     = \"localhost\",\n",
    "                             user     = \"root\",\n",
    "                             password = \"nueva_contraseña\",\n",
    "                             database = database)\n",
    "\n",
    "cursor = db.cursor()\n",
    "\n",
    "cursor.execute(query) # Ejecutamos la query\n",
    "column_names = cursor.column_names # Nombre de las columnas de la tabla\n",
    "\n",
    "# Guardamos los datos de la tabla\n",
    "data = cursor.fetchall()\n",
    "\n",
    "\n",
    "df = pd.DataFrame(data)\n",
    "\n",
    "cursor.close()\n",
    "db.close()"
   ]
  },
  {
   "cell_type": "code",
   "execution_count": 55,
   "id": "9e8879df-83ba-47dd-9159-affe358348b9",
   "metadata": {},
   "outputs": [],
   "source": [
    "df.rename(columns = {0: \"fecha\",\n",
    "                  1: \"temperatura\",\n",
    "                  2: \"provincia_id\",\n",
    "                    3: \"provincia\"}, inplace=True)"
   ]
  },
  {
   "cell_type": "code",
   "execution_count": 56,
   "id": "44fac4e3-4c7e-4696-8744-0a5136504160",
   "metadata": {},
   "outputs": [],
   "source": [
    "# Convertir la columna de fecha a tipo datetime (opcional, pero recomendable)\n",
    "df['fecha'] = pd.to_datetime(df['fecha'])"
   ]
  },
  {
   "cell_type": "code",
   "execution_count": 60,
   "id": "04f2fe1c-fbec-4787-aabc-7bfb82e16051",
   "metadata": {},
   "outputs": [
    {
     "data": {
      "text/html": [
       "<div style=\"width:100%;\"><div style=\"position:relative;width:100%;height:0;padding-bottom:60%;\"><span style=\"color:#565656\">Make this Notebook Trusted to load map: File -> Trust Notebook</span><iframe srcdoc=\"&lt;!DOCTYPE html&gt;\n",
       "&lt;html&gt;\n",
       "&lt;head&gt;\n",
       "    \n",
       "    &lt;meta http-equiv=&quot;content-type&quot; content=&quot;text/html; charset=UTF-8&quot; /&gt;\n",
       "    \n",
       "        &lt;script&gt;\n",
       "            L_NO_TOUCH = false;\n",
       "            L_DISABLE_3D = false;\n",
       "        &lt;/script&gt;\n",
       "    \n",
       "    &lt;style&gt;html, body {width: 100%;height: 100%;margin: 0;padding: 0;}&lt;/style&gt;\n",
       "    &lt;style&gt;#map {position:absolute;top:0;bottom:0;right:0;left:0;}&lt;/style&gt;\n",
       "    &lt;script src=&quot;https://cdn.jsdelivr.net/npm/leaflet@1.9.3/dist/leaflet.js&quot;&gt;&lt;/script&gt;\n",
       "    &lt;script src=&quot;https://code.jquery.com/jquery-3.7.1.min.js&quot;&gt;&lt;/script&gt;\n",
       "    &lt;script src=&quot;https://cdn.jsdelivr.net/npm/bootstrap@5.2.2/dist/js/bootstrap.bundle.min.js&quot;&gt;&lt;/script&gt;\n",
       "    &lt;script src=&quot;https://cdnjs.cloudflare.com/ajax/libs/Leaflet.awesome-markers/2.0.2/leaflet.awesome-markers.js&quot;&gt;&lt;/script&gt;\n",
       "    &lt;link rel=&quot;stylesheet&quot; href=&quot;https://cdn.jsdelivr.net/npm/leaflet@1.9.3/dist/leaflet.css&quot;/&gt;\n",
       "    &lt;link rel=&quot;stylesheet&quot; href=&quot;https://cdn.jsdelivr.net/npm/bootstrap@5.2.2/dist/css/bootstrap.min.css&quot;/&gt;\n",
       "    &lt;link rel=&quot;stylesheet&quot; href=&quot;https://netdna.bootstrapcdn.com/bootstrap/3.0.0/css/bootstrap-glyphicons.css&quot;/&gt;\n",
       "    &lt;link rel=&quot;stylesheet&quot; href=&quot;https://cdn.jsdelivr.net/npm/@fortawesome/fontawesome-free@6.2.0/css/all.min.css&quot;/&gt;\n",
       "    &lt;link rel=&quot;stylesheet&quot; href=&quot;https://cdnjs.cloudflare.com/ajax/libs/Leaflet.awesome-markers/2.0.2/leaflet.awesome-markers.css&quot;/&gt;\n",
       "    &lt;link rel=&quot;stylesheet&quot; href=&quot;https://cdn.jsdelivr.net/gh/python-visualization/folium/folium/templates/leaflet.awesome.rotate.min.css&quot;/&gt;\n",
       "    \n",
       "            &lt;meta name=&quot;viewport&quot; content=&quot;width=device-width,\n",
       "                initial-scale=1.0, maximum-scale=1.0, user-scalable=no&quot; /&gt;\n",
       "            &lt;style&gt;\n",
       "                #map_42b2edcbfd97fa54fa274269a6af99ea {\n",
       "                    position: relative;\n",
       "                    width: 100.0%;\n",
       "                    height: 100.0%;\n",
       "                    left: 0.0%;\n",
       "                    top: 0.0%;\n",
       "                }\n",
       "                .leaflet-container { font-size: 1rem; }\n",
       "            &lt;/style&gt;\n",
       "        \n",
       "&lt;/head&gt;\n",
       "&lt;body&gt;\n",
       "    \n",
       "    \n",
       "            &lt;div class=&quot;folium-map&quot; id=&quot;map_42b2edcbfd97fa54fa274269a6af99ea&quot; &gt;&lt;/div&gt;\n",
       "        \n",
       "&lt;/body&gt;\n",
       "&lt;script&gt;\n",
       "    \n",
       "    \n",
       "            var map_42b2edcbfd97fa54fa274269a6af99ea = L.map(\n",
       "                &quot;map_42b2edcbfd97fa54fa274269a6af99ea&quot;,\n",
       "                {\n",
       "                    center: [40.4168, -3.7038],\n",
       "                    crs: L.CRS.EPSG3857,\n",
       "                    zoom: 6,\n",
       "                    zoomControl: true,\n",
       "                    preferCanvas: false,\n",
       "                }\n",
       "            );\n",
       "\n",
       "            \n",
       "\n",
       "        \n",
       "    \n",
       "            var tile_layer_1115cf37cf1e9ff34dbfe47436f27356 = L.tileLayer(\n",
       "                &quot;https://tile.openstreetmap.org/{z}/{x}/{y}.png&quot;,\n",
       "                {&quot;attribution&quot;: &quot;\\u0026copy; \\u003ca href=\\&quot;https://www.openstreetmap.org/copyright\\&quot;\\u003eOpenStreetMap\\u003c/a\\u003e contributors&quot;, &quot;detectRetina&quot;: false, &quot;maxNativeZoom&quot;: 19, &quot;maxZoom&quot;: 19, &quot;minZoom&quot;: 0, &quot;noWrap&quot;: false, &quot;opacity&quot;: 1, &quot;subdomains&quot;: &quot;abc&quot;, &quot;tms&quot;: false}\n",
       "            );\n",
       "        \n",
       "    \n",
       "            tile_layer_1115cf37cf1e9ff34dbfe47436f27356.addTo(map_42b2edcbfd97fa54fa274269a6af99ea);\n",
       "        \n",
       "&lt;/script&gt;\n",
       "&lt;/html&gt;\" style=\"position:absolute;width:100%;height:100%;left:0;top:0;border:none !important;\" allowfullscreen webkitallowfullscreen mozallowfullscreen></iframe></div></div>"
      ],
      "text/plain": [
       "<folium.folium.Map at 0x31199cc80>"
      ]
     },
     "execution_count": 60,
     "metadata": {},
     "output_type": "execute_result"
    }
   ],
   "source": [
    "# Carga el shapefile en un GeoDataFrame\n",
    "gdf = gpd.read_file(\"spain-provinces.geojson\")\n",
    "\n",
    "# Crea un mapa españa\n",
    "centro_espana = [40.4168, -3.7038]\n",
    "mapa_espana = folium.Map(location=centro_espana, zoom_start=6)\n",
    "mapa_espana"
   ]
  },
  {
   "cell_type": "code",
   "execution_count": 62,
   "id": "d02ea528-efea-49a3-ae53-22274f97c57e",
   "metadata": {},
   "outputs": [
    {
     "data": {
      "text/plain": [
       "fecha          0.0\n",
       "provincia      0.0\n",
       "temperatura    0.0\n",
       "dtype: float64"
      ]
     },
     "execution_count": 62,
     "metadata": {},
     "output_type": "execute_result"
    }
   ],
   "source": [
    "# Para tener consistencia, cambiamos todas las etiquetas de columnas a tipo string\n",
    "df_temp[\"fecha\"] = df_temp[\"fecha\"].astype(str)\n",
    "df_temp[\"temperatura\"] = df_temp[\"temperatura\"].astype(str)\n",
    "df_temp[\"provincia\"] = df_temp[\"provincia\"].astype(str)\n",
    "df_temp.isna().sum()/df_temp.shape[0]*100"
   ]
  },
  {
   "cell_type": "code",
   "execution_count": 73,
   "id": "512a4841-64e7-43d3-bf7c-18297a6bc31c",
   "metadata": {},
   "outputs": [
    {
     "ename": "TypeError",
     "evalue": "ufunc 'isnan' not supported for the input types, and the inputs could not be safely coerced to any supported types according to the casting rule ''safe''",
     "output_type": "error",
     "traceback": [
      "\u001b[0;31m---------------------------------------------------------------------------\u001b[0m",
      "\u001b[0;31mTypeError\u001b[0m                                 Traceback (most recent call last)",
      "Cell \u001b[0;32mIn[73], line 1\u001b[0m\n\u001b[0;32m----> 1\u001b[0m folium\u001b[38;5;241m.\u001b[39mChoropleth(geo_data \u001b[38;5;241m=\u001b[39m gdf,\n\u001b[1;32m      2\u001b[0m                   data     \u001b[38;5;241m=\u001b[39m df_temp,\n\u001b[1;32m      3\u001b[0m                   columns  \u001b[38;5;241m=\u001b[39m [\u001b[38;5;124m\"\u001b[39m\u001b[38;5;124mtemperatura\u001b[39m\u001b[38;5;124m\"\u001b[39m, \u001b[38;5;124m\"\u001b[39m\u001b[38;5;124mprovincia\u001b[39m\u001b[38;5;124m\"\u001b[39m],\n\u001b[1;32m      4\u001b[0m                   key_on   \u001b[38;5;241m=\u001b[39m \u001b[38;5;124m\"\u001b[39m\u001b[38;5;124mfeature.properties.name\u001b[39m\u001b[38;5;124m\"\u001b[39m)\u001b[38;5;241m.\u001b[39madd_to(mapa_espana)\n\u001b[1;32m      6\u001b[0m mapa_espana\n",
      "File \u001b[0;32m/opt/anaconda3/lib/python3.12/site-packages/folium/features.py:1545\u001b[0m, in \u001b[0;36mChoropleth.__init__\u001b[0;34m(self, geo_data, data, columns, key_on, bins, fill_color, nan_fill_color, fill_opacity, nan_fill_opacity, line_color, line_weight, line_opacity, name, legend_name, overlay, control, show, topojson, smooth_factor, highlight, use_jenks, **kwargs)\u001b[0m\n\u001b[1;32m   1543\u001b[0m \u001b[38;5;28;01mif\u001b[39;00m color_data \u001b[38;5;129;01mis\u001b[39;00m \u001b[38;5;129;01mnot\u001b[39;00m \u001b[38;5;28;01mNone\u001b[39;00m \u001b[38;5;129;01mand\u001b[39;00m key_on \u001b[38;5;129;01mis\u001b[39;00m \u001b[38;5;129;01mnot\u001b[39;00m \u001b[38;5;28;01mNone\u001b[39;00m:\n\u001b[1;32m   1544\u001b[0m     real_values \u001b[38;5;241m=\u001b[39m np\u001b[38;5;241m.\u001b[39marray(\u001b[38;5;28mlist\u001b[39m(color_data\u001b[38;5;241m.\u001b[39mvalues()))\n\u001b[0;32m-> 1545\u001b[0m     real_values \u001b[38;5;241m=\u001b[39m real_values[\u001b[38;5;241m~\u001b[39mnp\u001b[38;5;241m.\u001b[39misnan(real_values)]\n\u001b[1;32m   1546\u001b[0m     \u001b[38;5;28;01mif\u001b[39;00m use_jenks:\n\u001b[1;32m   1547\u001b[0m         \u001b[38;5;28;01mfrom\u001b[39;00m \u001b[38;5;21;01mjenkspy\u001b[39;00m \u001b[38;5;28;01mimport\u001b[39;00m jenks_breaks\n",
      "\u001b[0;31mTypeError\u001b[0m: ufunc 'isnan' not supported for the input types, and the inputs could not be safely coerced to any supported types according to the casting rule ''safe''"
     ]
    }
   ],
   "source": [
    "folium.Choropleth(geo_data = gdf,\n",
    "                  data     = df_temp,\n",
    "                  columns  = [\"temperatura\", \"provincia\"],\n",
    "                  key_on   = \"feature.properties.name\").add_to(mapa_espana)\n",
    "\n",
    "mapa_espana"
   ]
  },
  {
   "cell_type": "code",
   "execution_count": null,
   "id": "16556759-9d14-47da-9bde-3afebe158afc",
   "metadata": {},
   "outputs": [],
   "source": []
  },
  {
   "cell_type": "code",
   "execution_count": null,
   "id": "8e2e9e77-ce2d-457e-8509-81eec4f470f5",
   "metadata": {},
   "outputs": [],
   "source": []
  },
  {
   "cell_type": "code",
   "execution_count": null,
   "id": "7da9e2b3-1fda-491b-b5a2-c6dd0dcc3783",
   "metadata": {},
   "outputs": [],
   "source": []
  },
  {
   "cell_type": "code",
   "execution_count": null,
   "id": "fb2d262e-76a1-4648-bc49-3ce06d9480a3",
   "metadata": {},
   "outputs": [],
   "source": []
  },
  {
   "cell_type": "code",
   "execution_count": null,
   "id": "7e813f6c-10e1-4b30-9676-579de4d902f4",
   "metadata": {},
   "outputs": [],
   "source": []
  },
  {
   "cell_type": "code",
   "execution_count": null,
   "id": "4e8b3c1f-28e0-4f03-b024-7824735fcf4c",
   "metadata": {},
   "outputs": [],
   "source": []
  }
 ],
 "metadata": {
  "kernelspec": {
   "display_name": "Python 3 (ipykernel)",
   "language": "python",
   "name": "python3"
  },
  "language_info": {
   "codemirror_mode": {
    "name": "ipython",
    "version": 3
   },
   "file_extension": ".py",
   "mimetype": "text/x-python",
   "name": "python",
   "nbconvert_exporter": "python",
   "pygments_lexer": "ipython3",
   "version": "3.12.4"
  }
 },
 "nbformat": 4,
 "nbformat_minor": 5
}
